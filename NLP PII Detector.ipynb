{
 "cells": [
  {
   "cell_type": "markdown",
   "id": "0767570c-6b60-4897-a253-278c924357ec",
   "metadata": {},
   "source": [
    "# NLP PII Detector"
   ]
  },
  {
   "cell_type": "code",
   "execution_count": 1,
   "id": "abf3edb1-4fb3-4b35-b3ba-7777fc5821a8",
   "metadata": {},
   "outputs": [],
   "source": [
    "#import necessary python library\n",
    "import re       \n",
    "import spacy          \n",
    "import pandas as pd"
   ]
  },
  {
   "cell_type": "code",
   "execution_count": 2,
   "id": "27e5be58-7f83-4db0-9f04-e9dde7bfbd1b",
   "metadata": {},
   "outputs": [],
   "source": [
    "# Load small English NLP model (no deep learning fine-tuning)\n",
    "nlp = spacy.load(\"en_core_web_sm\")\n",
    "\n",
    "# sample ServiceNow ticket dataset (randomized)\n",
    "Tickets = [\n",
    "    {\"id\": 101, \"description\": \"Customer Aravind Gunasekaran reported an issue. Contact: aravind123@example.com or +1-202-555-0147\"},\n",
    "    {\"id\": 102, \"description\": \"Policy 9988776655 for user Ashok G is pending verification.\"},\n",
    "    {\"id\": 103, \"description\": \"Call received from 9820345678. Customer mentioned policy# POL-1234-A.\"},\n",
    "    {\"id\": 104, \"description\": \"No sensitive info, just system reboot and memory alert.\"},\n",
    "    {\"id\": 105, \"description\": \"Ticket created by agent: rajesh.sharma@tcs.com regarding claim number CLM908765.\"},\n",
    "]\n",
    "\n",
    "# regex patterns for PII\n",
    "Patterns = {\n",
    "    \"Email\": r\"[a-zA-Z0-9_.+-]+@[a-zA-Z0-9-]+\\.[a-zA-Z0-9-.]+\",\n",
    "    \"Phone\": r\"(\\+?\\d{1,3}[-.\\s]?)?\\d{10}\",\n",
    "    \"Policy_Number\": r\"\\b[A-Z]{2,4}[-]?\\d{4,}\\b\",\n",
    "    \"Account_Number\": r\"\\b\\d{8,12}\\b\"\n",
    "}\n",
    "\n"
   ]
  },
  {
   "cell_type": "code",
   "execution_count": 3,
   "id": "c7405b39-bc45-4837-a249-3927c9a24f44",
   "metadata": {},
   "outputs": [],
   "source": [
    "def detect_pii(text):\n",
    "    findings = []\n",
    "\n",
    "    # Regex-based detection\n",
    "    for label, pattern in Patterns.items():\n",
    "        matches = re.findall(pattern, text)\n",
    "        if matches:\n",
    "            findings.extend([(label, m) for m in matches])\n",
    "\n",
    "    # NLP-based Named Entity Recognition\n",
    "    doc = nlp(text)\n",
    "    for ent in doc.ents:\n",
    "        if ent.label_ in [\"PERSON\", \"ORG\", \"GPE\"]:\n",
    "            findings.append((ent.label_, ent.text))\n",
    "    \n",
    "    # Remove duplicates\n",
    "    findings = list(set(findings))\n",
    "    return findings\n",
    "\n"
   ]
  },
  {
   "cell_type": "code",
   "execution_count": 4,
   "id": "36694252-7349-42d4-9a6f-563b29e14d0e",
   "metadata": {},
   "outputs": [],
   "source": [
    "# Analyze all tickets\n",
    "results = []\n",
    "for t in Tickets:\n",
    "    pii_data = detect_pii(t[\"description\"])\n",
    "    risk_level = \"High\" if len(pii_data) > 2 else (\"Medium\" if pii_data else \"Low\")\n",
    "    results.append({\n",
    "        \"Ticket_ID\": t[\"id\"],\n",
    "        \"Description\": t[\"description\"],\n",
    "        \"Detected_PII\": pii_data,\n",
    "        \"Risk_Level\": risk_level\n",
    "    })\n"
   ]
  },
  {
   "cell_type": "code",
   "execution_count": 6,
   "id": "39b21374-e8bf-4d18-a19d-dd74674a619b",
   "metadata": {},
   "outputs": [
    {
     "data": {
      "text/html": [
       "<div>\n",
       "<style scoped>\n",
       "    .dataframe tbody tr th:only-of-type {\n",
       "        vertical-align: middle;\n",
       "    }\n",
       "\n",
       "    .dataframe tbody tr th {\n",
       "        vertical-align: top;\n",
       "    }\n",
       "\n",
       "    .dataframe thead th {\n",
       "        text-align: right;\n",
       "    }\n",
       "</style>\n",
       "<table border=\"1\" class=\"dataframe\">\n",
       "  <thead>\n",
       "    <tr style=\"text-align: right;\">\n",
       "      <th></th>\n",
       "      <th>Ticket_ID</th>\n",
       "      <th>Description</th>\n",
       "      <th>Detected_PII</th>\n",
       "      <th>Risk_Level</th>\n",
       "    </tr>\n",
       "  </thead>\n",
       "  <tbody>\n",
       "    <tr>\n",
       "      <th>0</th>\n",
       "      <td>101</td>\n",
       "      <td>Customer Aravind Gunasekaran reported an issue. Contact: aravind123@example.com or +1-202-555-0147</td>\n",
       "      <td>[(Email, aravind123@example.com), (PERSON, Aravind Gunasekaran)]</td>\n",
       "      <td>Medium</td>\n",
       "    </tr>\n",
       "    <tr>\n",
       "      <th>1</th>\n",
       "      <td>102</td>\n",
       "      <td>Policy 9988776655 for user Ashok G is pending verification.</td>\n",
       "      <td>[(Account_Number, 9988776655), (PERSON, Ashok G), (Phone, )]</td>\n",
       "      <td>High</td>\n",
       "    </tr>\n",
       "    <tr>\n",
       "      <th>2</th>\n",
       "      <td>103</td>\n",
       "      <td>Call received from 9820345678. Customer mentioned policy# POL-1234-A.</td>\n",
       "      <td>[(PERSON, POL-1234-A.), (ORG, Customer), (Phone, ), (Account_Number, 9820345678), (Policy_Number, POL-1234)]</td>\n",
       "      <td>High</td>\n",
       "    </tr>\n",
       "    <tr>\n",
       "      <th>3</th>\n",
       "      <td>104</td>\n",
       "      <td>No sensitive info, just system reboot and memory alert.</td>\n",
       "      <td>[]</td>\n",
       "      <td>Low</td>\n",
       "    </tr>\n",
       "    <tr>\n",
       "      <th>4</th>\n",
       "      <td>105</td>\n",
       "      <td>Ticket created by agent: rajesh.sharma@tcs.com regarding claim number CLM908765.</td>\n",
       "      <td>[(Email, rajesh.sharma@tcs.com), (Policy_Number, CLM908765), (ORG, CLM908765)]</td>\n",
       "      <td>High</td>\n",
       "    </tr>\n",
       "  </tbody>\n",
       "</table>\n",
       "</div>"
      ],
      "text/plain": [
       "   Ticket_ID  \\\n",
       "0        101   \n",
       "1        102   \n",
       "2        103   \n",
       "3        104   \n",
       "4        105   \n",
       "\n",
       "                                                                                          Description  \\\n",
       "0  Customer Aravind Gunasekaran reported an issue. Contact: aravind123@example.com or +1-202-555-0147   \n",
       "1                                         Policy 9988776655 for user Ashok G is pending verification.   \n",
       "2                               Call received from 9820345678. Customer mentioned policy# POL-1234-A.   \n",
       "3                                             No sensitive info, just system reboot and memory alert.   \n",
       "4                    Ticket created by agent: rajesh.sharma@tcs.com regarding claim number CLM908765.   \n",
       "\n",
       "                                                                                                   Detected_PII  \\\n",
       "0                                              [(Email, aravind123@example.com), (PERSON, Aravind Gunasekaran)]   \n",
       "1                                                  [(Account_Number, 9988776655), (PERSON, Ashok G), (Phone, )]   \n",
       "2  [(PERSON, POL-1234-A.), (ORG, Customer), (Phone, ), (Account_Number, 9820345678), (Policy_Number, POL-1234)]   \n",
       "3                                                                                                            []   \n",
       "4                                [(Email, rajesh.sharma@tcs.com), (Policy_Number, CLM908765), (ORG, CLM908765)]   \n",
       "\n",
       "  Risk_Level  \n",
       "0     Medium  \n",
       "1       High  \n",
       "2       High  \n",
       "3        Low  \n",
       "4       High  "
      ]
     },
     "execution_count": 6,
     "metadata": {},
     "output_type": "execute_result"
    }
   ],
   "source": [
    "pd.set_option('display.max_colwidth', None)\n",
    "df = pd.DataFrame(results)\n",
    "df"
   ]
  }
 ],
 "metadata": {
  "kernelspec": {
   "display_name": "Python [conda env:base] *",
   "language": "python",
   "name": "conda-base-py"
  },
  "language_info": {
   "codemirror_mode": {
    "name": "ipython",
    "version": 3
   },
   "file_extension": ".py",
   "mimetype": "text/x-python",
   "name": "python",
   "nbconvert_exporter": "python",
   "pygments_lexer": "ipython3",
   "version": "3.13.5"
  }
 },
 "nbformat": 4,
 "nbformat_minor": 5
}
