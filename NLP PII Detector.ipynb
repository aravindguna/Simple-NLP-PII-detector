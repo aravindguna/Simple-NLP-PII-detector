{
 "cells": [
  {
   "cell_type": "markdown",
   "id": "0767570c-6b60-4897-a253-278c924357ec",
   "metadata": {},
   "source": [
    "# NLP PII Detector"
   ]
  },
  {
   "cell_type": "code",
   "execution_count": 1,
   "id": "abf3edb1-4fb3-4b35-b3ba-7777fc5821a8",
   "metadata": {},
   "outputs": [],
   "source": [
    "#import necessary python library\n",
    "import re       \n",
    "import spacy          \n",
    "import pandas as pd"
   ]
  },
  {
   "cell_type": "code",
   "execution_count": 2,
   "id": "2703ac3a-67f3-4d6c-a8c5-8944bb8c3bc1",
   "metadata": {},
   "outputs": [],
   "source": [
    "# Load spaCy model (classical NER)\n",
    "nlp = spacy.load(\"en_core_web_sm\")\n",
    "\n",
    "# Sample ServiceNow-like ticket data (including Aravind example)\n",
    "tickets = [\n",
    "    {\"id\": 101, \"description\": \"Customer Aravind Gunasekaran reported an issue. Contact: aravind123@example.com or +91-202-555-0147. SSN: 123-45-6789\"},\n",
    "    {\"id\": 102, \"description\": \"Policy 9988776655 for user Asha K is pending verification.\"},\n",
    "    {\"id\": 103, \"description\": \"Call received from 9820345678. Customer mentioned policy# POL-1234-A.\"},\n",
    "    {\"id\": 104, \"description\": \"No sensitive info, just system reboot and memory alert.\"},\n",
    "    {\"id\": 105, \"description\": \"Ticket created by agent: rajesh.sharma@tcs.com regarding claim number CLM908765.\"},\n",
    "]\n",
    "\n",
    "# Regex patterns (use non-capturing groups to avoid tuple results)\n",
    "patterns = {\n",
    "    \"Email\": r\"\\b[a-zA-Z0-9._%+-]+@[a-zA-Z0-9.-]+\\.[a-zA-Z]{2,}\\b\",\n",
    "    # Accept formats like +1-202-555-0147, (202) 555-0147, 9820345678, 202.555.0147\n",
    "    \"Phone\": r\"(?:\\+?\\d{1,3}[-.\\s]?)?(?:\\(?\\d{3}\\)?[-.\\s]?\\d{3}[-.\\s]?\\d{4})\",\n",
    "    \"SSN\": r\"\\b\\d{3}-\\d{2}-\\d{4}\\b\",\n",
    "    \"Policy_Number\": r\"\\b[A-Z]{2,4}-?\\d{4,}\\b\",\n",
    "    \"Account_Number\": r\"\\b\\d{8,12}\\b\"\n",
    "}\n",
    "\n"
   ]
  },
  {
   "cell_type": "code",
   "execution_count": 3,
   "id": "a2e2b0a7-2e7c-4088-9641-88d903945941",
   "metadata": {},
   "outputs": [],
   "source": [
    "def normalize_phone(raw):\n",
    "    # keep a plus if present and reformat numeric portion\n",
    "    digits = re.sub(r\"\\D\", \"\", raw)  # keep only digits\n",
    "    if len(digits) < 10 or len(digits) > 15:\n",
    "        return None\n",
    "    # if original started with + then preserve +countrycode\n",
    "    if raw.strip().startswith(\"+\"):\n",
    "        return \"+\" + digits\n",
    "    # if digits == 10 -> return as standard 10-digit\n",
    "    if len(digits) == 10:\n",
    "        return digits\n",
    "    # otherwise return digits (may include country code)\n",
    "    return digits\n",
    "\n"
   ]
  },
  {
   "cell_type": "code",
   "execution_count": 4,
   "id": "c26d57f1-7d60-42f8-8b6b-606222a0b7df",
   "metadata": {},
   "outputs": [],
   "source": [
    "def clean_and_validate(match_text, label):\n",
    "    s = match_text.strip()\n",
    "    if label == \"Phone\":\n",
    "        return normalize_phone(s)\n",
    "    # general cleanup: drop too-short garbage\n",
    "    if len(s) < 3:\n",
    "        return None\n",
    "    return s\n",
    "\n"
   ]
  },
  {
   "cell_type": "code",
   "execution_count": 5,
   "id": "913f95f3-a88f-4f88-809d-cdc5ec17e6f6",
   "metadata": {},
   "outputs": [],
   "source": [
    "def detect_pii(text):\n",
    "    findings = set()\n",
    "\n",
    "    # Regex-based detection using finditer to get full matches\n",
    "    for label, pattern in patterns.items():\n",
    "        for m in re.finditer(pattern, text):\n",
    "            full = m.group(0)\n",
    "            cleaned = clean_and_validate(full, label)\n",
    "            if cleaned:\n",
    "                findings.add((label, cleaned))\n",
    "\n",
    "    # spaCy NER for PERSON and ORG\n",
    "    doc = nlp(text)\n",
    "    for ent in doc.ents:\n",
    "        if ent.label_ in (\"PERSON\", \"ORG\"):\n",
    "            findings.add((ent.label_, ent.text.strip()))\n",
    "\n",
    "    # return sorted list for deterministic ordering\n",
    "    return sorted(list(findings))\n",
    "\n"
   ]
  },
  {
   "cell_type": "code",
   "execution_count": 6,
   "id": "73453b3c-bc7e-4b19-b841-a89636061bad",
   "metadata": {},
   "outputs": [],
   "source": [
    "def classify_risk(pii_items):\n",
    "    if len(pii_items) >= 3:\n",
    "        return \"High\"\n",
    "    if len(pii_items) >= 1:\n",
    "        return \"Medium\"\n",
    "    return \"Low\"\n",
    "\n",
    "# Run detection\n",
    "output = []\n",
    "for t in tickets:\n",
    "    pii = detect_pii(t[\"description\"])\n",
    "    risk = classify_risk(pii)\n",
    "    output.append({\n",
    "        \"Ticket_ID\": t[\"id\"],\n",
    "        \"Description\": t[\"description\"],\n",
    "        \"Detected_PII\": [x[1] for x in pii],\n",
    "        \"Risk_Level\": risk\n",
    "    })\n"
   ]
  },
  {
   "cell_type": "code",
   "execution_count": 7,
   "id": "39b21374-e8bf-4d18-a19d-dd74674a619b",
   "metadata": {},
   "outputs": [],
   "source": [
    "pd.set_option('display.max_colwidth', None)"
   ]
  },
  {
   "cell_type": "code",
   "execution_count": 8,
   "id": "e4729b1c-38bd-473b-8701-225a5cc17d44",
   "metadata": {},
   "outputs": [
    {
     "data": {
      "text/html": [
       "<div>\n",
       "<style scoped>\n",
       "    .dataframe tbody tr th:only-of-type {\n",
       "        vertical-align: middle;\n",
       "    }\n",
       "\n",
       "    .dataframe tbody tr th {\n",
       "        vertical-align: top;\n",
       "    }\n",
       "\n",
       "    .dataframe thead th {\n",
       "        text-align: right;\n",
       "    }\n",
       "</style>\n",
       "<table border=\"1\" class=\"dataframe\">\n",
       "  <thead>\n",
       "    <tr style=\"text-align: right;\">\n",
       "      <th></th>\n",
       "      <th>Ticket_ID</th>\n",
       "      <th>Description</th>\n",
       "      <th>Detected_PII</th>\n",
       "      <th>Risk_Level</th>\n",
       "    </tr>\n",
       "  </thead>\n",
       "  <tbody>\n",
       "    <tr>\n",
       "      <th>0</th>\n",
       "      <td>101</td>\n",
       "      <td>Customer Aravind Gunasekaran reported an issue. Contact: aravind123@example.com or +91-202-555-0147. SSN: 123-45-6789</td>\n",
       "      <td>[aravind123@example.com, SSN, Aravind Gunasekaran, +912025550147, 123-45-6789]</td>\n",
       "      <td>High</td>\n",
       "    </tr>\n",
       "    <tr>\n",
       "      <th>1</th>\n",
       "      <td>102</td>\n",
       "      <td>Policy 9988776655 for user Asha K is pending verification.</td>\n",
       "      <td>[9988776655, Asha K, 9988776655]</td>\n",
       "      <td>High</td>\n",
       "    </tr>\n",
       "    <tr>\n",
       "      <th>2</th>\n",
       "      <td>103</td>\n",
       "      <td>Call received from 9820345678. Customer mentioned policy# POL-1234-A.</td>\n",
       "      <td>[9820345678, Customer, POL-1234-A., 9820345678, POL-1234]</td>\n",
       "      <td>High</td>\n",
       "    </tr>\n",
       "    <tr>\n",
       "      <th>3</th>\n",
       "      <td>104</td>\n",
       "      <td>No sensitive info, just system reboot and memory alert.</td>\n",
       "      <td>[]</td>\n",
       "      <td>Low</td>\n",
       "    </tr>\n",
       "    <tr>\n",
       "      <th>4</th>\n",
       "      <td>105</td>\n",
       "      <td>Ticket created by agent: rajesh.sharma@tcs.com regarding claim number CLM908765.</td>\n",
       "      <td>[rajesh.sharma@tcs.com, CLM908765, CLM908765]</td>\n",
       "      <td>High</td>\n",
       "    </tr>\n",
       "  </tbody>\n",
       "</table>\n",
       "</div>"
      ],
      "text/plain": [
       "   Ticket_ID  \\\n",
       "0        101   \n",
       "1        102   \n",
       "2        103   \n",
       "3        104   \n",
       "4        105   \n",
       "\n",
       "                                                                                                             Description  \\\n",
       "0  Customer Aravind Gunasekaran reported an issue. Contact: aravind123@example.com or +91-202-555-0147. SSN: 123-45-6789   \n",
       "1                                                             Policy 9988776655 for user Asha K is pending verification.   \n",
       "2                                                  Call received from 9820345678. Customer mentioned policy# POL-1234-A.   \n",
       "3                                                                No sensitive info, just system reboot and memory alert.   \n",
       "4                                       Ticket created by agent: rajesh.sharma@tcs.com regarding claim number CLM908765.   \n",
       "\n",
       "                                                                     Detected_PII  \\\n",
       "0  [aravind123@example.com, SSN, Aravind Gunasekaran, +912025550147, 123-45-6789]   \n",
       "1                                                [9988776655, Asha K, 9988776655]   \n",
       "2                       [9820345678, Customer, POL-1234-A., 9820345678, POL-1234]   \n",
       "3                                                                              []   \n",
       "4                                   [rajesh.sharma@tcs.com, CLM908765, CLM908765]   \n",
       "\n",
       "  Risk_Level  \n",
       "0       High  \n",
       "1       High  \n",
       "2       High  \n",
       "3        Low  \n",
       "4       High  "
      ]
     },
     "execution_count": 8,
     "metadata": {},
     "output_type": "execute_result"
    }
   ],
   "source": [
    "df = pd.DataFrame(output)\n",
    "df"
   ]
  },
  {
   "cell_type": "code",
   "execution_count": 12,
   "id": "7fc48b13-4a0d-4d2b-8255-3660ab2d9d8d",
   "metadata": {},
   "outputs": [],
   "source": [
    "df.to_csv(\"output.csv\")"
   ]
  },
  {
   "cell_type": "code",
   "execution_count": null,
   "id": "122d9182-db0f-493d-8b47-533bcce5d64f",
   "metadata": {},
   "outputs": [],
   "source": []
  }
 ],
 "metadata": {
  "kernelspec": {
   "display_name": "Python [conda env:base] *",
   "language": "python",
   "name": "conda-base-py"
  },
  "language_info": {
   "codemirror_mode": {
    "name": "ipython",
    "version": 3
   },
   "file_extension": ".py",
   "mimetype": "text/x-python",
   "name": "python",
   "nbconvert_exporter": "python",
   "pygments_lexer": "ipython3",
   "version": "3.13.5"
  }
 },
 "nbformat": 4,
 "nbformat_minor": 5
}
